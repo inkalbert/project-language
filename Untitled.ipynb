{
 "cells": [
  {
   "cell_type": "code",
   "execution_count": 7,
   "id": "0486215e",
   "metadata": {},
   "outputs": [],
   "source": [
    "import torch"
   ]
  },
  {
   "cell_type": "code",
   "execution_count": 23,
   "id": "e7c0a684",
   "metadata": {},
   "outputs": [],
   "source": [
    "text=\"hii there\""
   ]
  },
  {
   "cell_type": "code",
   "execution_count": 24,
   "id": "327537c8",
   "metadata": {},
   "outputs": [],
   "source": [
    "chars=\" !$&',-.3:;?ABCDEFGHIJKLMNOPQRSTUVWKYZabcdefghijklmnopqrstuvwkyz\""
   ]
  },
  {
   "cell_type": "code",
   "execution_count": 25,
   "id": "03436fc8",
   "metadata": {},
   "outputs": [
    {
     "data": {
      "text/plain": [
       "64"
      ]
     },
     "execution_count": 25,
     "metadata": {},
     "output_type": "execute_result"
    }
   ],
   "source": [
    "len(chars)"
   ]
  },
  {
   "cell_type": "code",
   "execution_count": 33,
   "id": "45f6ea7a-e90a-4429-a4ac-b5b75eaff08d",
   "metadata": {},
   "outputs": [],
   "source": [
    "def encode(a):\n",
    "    global chars\n",
    "    s=[]\n",
    "    for i in a:\n",
    "        for j in range(len(chars)):\n",
    "            if(i==chars[j]):\n",
    "                s.append(j+1)\n",
    "    return s\n",
    "                \n",
    "            \n",
    "        "
   ]
  },
  {
   "cell_type": "code",
   "execution_count": 34,
   "id": "90efac68-29c0-45ed-9671-e2524817cf15",
   "metadata": {},
   "outputs": [],
   "source": [
    "a=encode(text)"
   ]
  },
  {
   "cell_type": "code",
   "execution_count": 35,
   "id": "120e1867-ad49-44f8-8416-b38a0d474295",
   "metadata": {},
   "outputs": [],
   "source": [
    "def decode(a):\n",
    "    global chars\n",
    "    s=\"\"\n",
    "    for i in a:\n",
    "        s=s+chars[i-1]\n",
    "    return s\n",
    "        \n",
    "        "
   ]
  },
  {
   "cell_type": "code",
   "execution_count": 36,
   "id": "253ab75b-ea09-48e5-a5df-e86ae965b0d3",
   "metadata": {},
   "outputs": [
    {
     "data": {
      "text/plain": [
       "'hii there'"
      ]
     },
     "execution_count": 36,
     "metadata": {},
     "output_type": "execute_result"
    }
   ],
   "source": [
    "decode(a)"
   ]
  },
  {
   "cell_type": "code",
   "execution_count": null,
   "id": "5f8fbe43-8c41-4ff0-8240-8be03d324322",
   "metadata": {},
   "outputs": [],
   "source": []
  }
 ],
 "metadata": {
  "kernelspec": {
   "display_name": "Python 3 (ipykernel)",
   "language": "python",
   "name": "python3"
  },
  "language_info": {
   "codemirror_mode": {
    "name": "ipython",
    "version": 3
   },
   "file_extension": ".py",
   "mimetype": "text/x-python",
   "name": "python",
   "nbconvert_exporter": "python",
   "pygments_lexer": "ipython3",
   "version": "3.10.13"
  }
 },
 "nbformat": 4,
 "nbformat_minor": 5
}
